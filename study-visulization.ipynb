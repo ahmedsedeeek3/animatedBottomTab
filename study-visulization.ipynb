{
 "cells": [
  {
   "cell_type": "code",
   "execution_count": 1,
   "id": "afe51ca1",
   "metadata": {
    "_cell_guid": "050f502e-3ddc-4556-9da0-06ea2944fe88",
    "_uuid": "b1401477-b096-4369-a832-0cfeaa60981e",
    "collapsed": false,
    "execution": {
     "iopub.execute_input": "2023-12-18T00:45:18.464710Z",
     "iopub.status.busy": "2023-12-18T00:45:18.463641Z",
     "iopub.status.idle": "2023-12-18T00:45:18.887512Z",
     "shell.execute_reply": "2023-12-18T00:45:18.886284Z"
    },
    "jupyter": {
     "outputs_hidden": false
    },
    "papermill": {
     "duration": 0.433921,
     "end_time": "2023-12-18T00:45:18.890194",
     "exception": false,
     "start_time": "2023-12-18T00:45:18.456273",
     "status": "completed"
    },
    "tags": []
   },
   "outputs": [
    {
     "name": "stdout",
     "output_type": "stream",
     "text": [
      "/kaggle/input/visulization/gapminder.csv\n"
     ]
    }
   ],
   "source": [
    "# This Python 3 environment comes with many helpful analytics libraries installed\n",
    "# It is defined by the kaggle/python Docker image: https://github.com/kaggle/docker-python\n",
    "# For example, here's several helpful packages to load\n",
    "\n",
    "import numpy as np # linear algebra\n",
    "import pandas as pd # data processing, CSV file I/O (e.g. pd.read_csv)\n",
    "\n",
    "\n",
    "# Input data files are available in the read-only \"../input/\" directory\n",
    "# For example, running this (by clicking run or pressing Shift+Enter) will list all files under the input directory\n",
    "\n",
    "import os\n",
    "for dirname, _, filenames in os.walk('/kaggle/input'):\n",
    "    for filename in filenames:\n",
    "        print(os.path.join(dirname, filename))\n",
    "\n",
    "# You can write up to 20GB to the current directory (/kaggle/working/) that gets preserved as output when you create a version using \"Save & Run All\" \n",
    "# You can also write temporary files to /kaggle/temp/, but they won't be saved outside of the current session"
   ]
  },
  {
   "cell_type": "code",
   "execution_count": 2,
   "id": "5afb496c",
   "metadata": {
    "_cell_guid": "9eebf9c7-4d92-4af7-a3f1-e71c92396d17",
    "_uuid": "f932aba4-f3ea-48d3-ab3b-3a047864b81f",
    "collapsed": false,
    "execution": {
     "iopub.execute_input": "2023-12-18T00:45:18.902766Z",
     "iopub.status.busy": "2023-12-18T00:45:18.902234Z",
     "iopub.status.idle": "2023-12-18T00:45:18.958710Z",
     "shell.execute_reply": "2023-12-18T00:45:18.957386Z"
    },
    "jupyter": {
     "outputs_hidden": false
    },
    "papermill": {
     "duration": 0.066065,
     "end_time": "2023-12-18T00:45:18.961778",
     "exception": false,
     "start_time": "2023-12-18T00:45:18.895713",
     "status": "completed"
    },
    "tags": []
   },
   "outputs": [],
   "source": [
    "df =pd.read_csv('/kaggle/input/visulization/gapminder.csv')"
   ]
  },
  {
   "cell_type": "code",
   "execution_count": 3,
   "id": "14da720b",
   "metadata": {
    "_cell_guid": "71f278ee-73fa-47de-95fb-ae09ec568bdd",
    "_uuid": "984e20b4-bb23-48b0-9138-3c1daeb9e96f",
    "collapsed": false,
    "execution": {
     "iopub.execute_input": "2023-12-18T00:45:18.974474Z",
     "iopub.status.busy": "2023-12-18T00:45:18.974050Z",
     "iopub.status.idle": "2023-12-18T00:45:19.003081Z",
     "shell.execute_reply": "2023-12-18T00:45:19.001979Z"
    },
    "jupyter": {
     "outputs_hidden": false
    },
    "papermill": {
     "duration": 0.038676,
     "end_time": "2023-12-18T00:45:19.005967",
     "exception": false,
     "start_time": "2023-12-18T00:45:18.967291",
     "status": "completed"
    },
    "tags": []
   },
   "outputs": [
    {
     "data": {
      "text/html": [
       "<div>\n",
       "<style scoped>\n",
       "    .dataframe tbody tr th:only-of-type {\n",
       "        vertical-align: middle;\n",
       "    }\n",
       "\n",
       "    .dataframe tbody tr th {\n",
       "        vertical-align: top;\n",
       "    }\n",
       "\n",
       "    .dataframe thead th {\n",
       "        text-align: right;\n",
       "    }\n",
       "</style>\n",
       "<table border=\"1\" class=\"dataframe\">\n",
       "  <thead>\n",
       "    <tr style=\"text-align: right;\">\n",
       "      <th></th>\n",
       "      <th>country</th>\n",
       "      <th>year</th>\n",
       "      <th>region</th>\n",
       "      <th>population</th>\n",
       "      <th>life_expectancy</th>\n",
       "      <th>age5_surviving</th>\n",
       "      <th>babies_per_woman</th>\n",
       "      <th>gdp_per_capita</th>\n",
       "      <th>gdp_per_day</th>\n",
       "    </tr>\n",
       "  </thead>\n",
       "  <tbody>\n",
       "    <tr>\n",
       "      <th>0</th>\n",
       "      <td>Afghanistan</td>\n",
       "      <td>1800</td>\n",
       "      <td>Asia</td>\n",
       "      <td>3280000.0</td>\n",
       "      <td>28.21</td>\n",
       "      <td>53.142</td>\n",
       "      <td>7.0</td>\n",
       "      <td>603.0</td>\n",
       "      <td>1.650924</td>\n",
       "    </tr>\n",
       "    <tr>\n",
       "      <th>1</th>\n",
       "      <td>Afghanistan</td>\n",
       "      <td>1810</td>\n",
       "      <td>Asia</td>\n",
       "      <td>3280000.0</td>\n",
       "      <td>28.11</td>\n",
       "      <td>53.002</td>\n",
       "      <td>7.0</td>\n",
       "      <td>604.0</td>\n",
       "      <td>1.653662</td>\n",
       "    </tr>\n",
       "    <tr>\n",
       "      <th>2</th>\n",
       "      <td>Afghanistan</td>\n",
       "      <td>1820</td>\n",
       "      <td>Asia</td>\n",
       "      <td>3323519.0</td>\n",
       "      <td>28.01</td>\n",
       "      <td>52.862</td>\n",
       "      <td>7.0</td>\n",
       "      <td>604.0</td>\n",
       "      <td>1.653662</td>\n",
       "    </tr>\n",
       "    <tr>\n",
       "      <th>3</th>\n",
       "      <td>Afghanistan</td>\n",
       "      <td>1830</td>\n",
       "      <td>Asia</td>\n",
       "      <td>3448982.0</td>\n",
       "      <td>27.90</td>\n",
       "      <td>52.719</td>\n",
       "      <td>7.0</td>\n",
       "      <td>625.0</td>\n",
       "      <td>1.711157</td>\n",
       "    </tr>\n",
       "    <tr>\n",
       "      <th>4</th>\n",
       "      <td>Afghanistan</td>\n",
       "      <td>1840</td>\n",
       "      <td>Asia</td>\n",
       "      <td>3625022.0</td>\n",
       "      <td>27.80</td>\n",
       "      <td>52.576</td>\n",
       "      <td>7.0</td>\n",
       "      <td>647.0</td>\n",
       "      <td>1.771389</td>\n",
       "    </tr>\n",
       "  </tbody>\n",
       "</table>\n",
       "</div>"
      ],
      "text/plain": [
       "       country  year region  population  life_expectancy  age5_surviving  \\\n",
       "0  Afghanistan  1800   Asia   3280000.0            28.21          53.142   \n",
       "1  Afghanistan  1810   Asia   3280000.0            28.11          53.002   \n",
       "2  Afghanistan  1820   Asia   3323519.0            28.01          52.862   \n",
       "3  Afghanistan  1830   Asia   3448982.0            27.90          52.719   \n",
       "4  Afghanistan  1840   Asia   3625022.0            27.80          52.576   \n",
       "\n",
       "   babies_per_woman  gdp_per_capita  gdp_per_day  \n",
       "0               7.0           603.0     1.650924  \n",
       "1               7.0           604.0     1.653662  \n",
       "2               7.0           604.0     1.653662  \n",
       "3               7.0           625.0     1.711157  \n",
       "4               7.0           647.0     1.771389  "
      ]
     },
     "execution_count": 3,
     "metadata": {},
     "output_type": "execute_result"
    }
   ],
   "source": [
    "df.head()"
   ]
  },
  {
   "cell_type": "code",
   "execution_count": 4,
   "id": "879f4388",
   "metadata": {
    "_cell_guid": "5349795e-55d2-44f6-ad2d-b3dbfca0dcb4",
    "_uuid": "0bea56f3-aefa-4488-b5ad-9372a1744bad",
    "collapsed": false,
    "execution": {
     "iopub.execute_input": "2023-12-18T00:45:19.019487Z",
     "iopub.status.busy": "2023-12-18T00:45:19.019078Z",
     "iopub.status.idle": "2023-12-18T00:45:19.045819Z",
     "shell.execute_reply": "2023-12-18T00:45:19.044664Z"
    },
    "jupyter": {
     "outputs_hidden": false
    },
    "papermill": {
     "duration": 0.037171,
     "end_time": "2023-12-18T00:45:19.048950",
     "exception": false,
     "start_time": "2023-12-18T00:45:19.011779",
     "status": "completed"
    },
    "tags": []
   },
   "outputs": [
    {
     "data": {
      "text/html": [
       "<div>\n",
       "<style scoped>\n",
       "    .dataframe tbody tr th:only-of-type {\n",
       "        vertical-align: middle;\n",
       "    }\n",
       "\n",
       "    .dataframe tbody tr th {\n",
       "        vertical-align: top;\n",
       "    }\n",
       "\n",
       "    .dataframe thead th {\n",
       "        text-align: right;\n",
       "    }\n",
       "</style>\n",
       "<table border=\"1\" class=\"dataframe\">\n",
       "  <thead>\n",
       "    <tr style=\"text-align: right;\">\n",
       "      <th></th>\n",
       "      <th>country</th>\n",
       "      <th>year</th>\n",
       "      <th>region</th>\n",
       "      <th>population</th>\n",
       "      <th>life_expectancy</th>\n",
       "      <th>age5_surviving</th>\n",
       "      <th>babies_per_woman</th>\n",
       "      <th>gdp_per_capita</th>\n",
       "      <th>gdp_per_day</th>\n",
       "    </tr>\n",
       "  </thead>\n",
       "  <tbody>\n",
       "    <tr>\n",
       "      <th>0</th>\n",
       "      <td>Afghanistan</td>\n",
       "      <td>1800</td>\n",
       "      <td>Asia</td>\n",
       "      <td>3280000.0</td>\n",
       "      <td>28.21</td>\n",
       "      <td>53.142</td>\n",
       "      <td>7.00</td>\n",
       "      <td>603.0</td>\n",
       "      <td>1.650924</td>\n",
       "    </tr>\n",
       "    <tr>\n",
       "      <th>20</th>\n",
       "      <td>Afghanistan</td>\n",
       "      <td>1955</td>\n",
       "      <td>Asia</td>\n",
       "      <td>8270024.0</td>\n",
       "      <td>29.27</td>\n",
       "      <td>60.193</td>\n",
       "      <td>7.67</td>\n",
       "      <td>1125.0</td>\n",
       "      <td>3.080082</td>\n",
       "    </tr>\n",
       "    <tr>\n",
       "      <th>40</th>\n",
       "      <td>Afghanistan</td>\n",
       "      <td>1975</td>\n",
       "      <td>Asia</td>\n",
       "      <td>12582954.0</td>\n",
       "      <td>39.61</td>\n",
       "      <td>72.060</td>\n",
       "      <td>7.67</td>\n",
       "      <td>1201.0</td>\n",
       "      <td>3.288159</td>\n",
       "    </tr>\n",
       "    <tr>\n",
       "      <th>60</th>\n",
       "      <td>Afghanistan</td>\n",
       "      <td>1995</td>\n",
       "      <td>Asia</td>\n",
       "      <td>16772522.0</td>\n",
       "      <td>49.40</td>\n",
       "      <td>84.770</td>\n",
       "      <td>7.83</td>\n",
       "      <td>872.0</td>\n",
       "      <td>2.387406</td>\n",
       "    </tr>\n",
       "    <tr>\n",
       "      <th>80</th>\n",
       "      <td>Afghanistan</td>\n",
       "      <td>2015</td>\n",
       "      <td>Asia</td>\n",
       "      <td>32526562.0</td>\n",
       "      <td>53.80</td>\n",
       "      <td>90.890</td>\n",
       "      <td>4.47</td>\n",
       "      <td>1925.0</td>\n",
       "      <td>5.270363</td>\n",
       "    </tr>\n",
       "    <tr>\n",
       "      <th>100</th>\n",
       "      <td>Albania</td>\n",
       "      <td>1954</td>\n",
       "      <td>Europe</td>\n",
       "      <td>1382881.0</td>\n",
       "      <td>56.59</td>\n",
       "      <td>84.829</td>\n",
       "      <td>6.31</td>\n",
       "      <td>2108.0</td>\n",
       "      <td>5.771389</td>\n",
       "    </tr>\n",
       "    <tr>\n",
       "      <th>120</th>\n",
       "      <td>Albania</td>\n",
       "      <td>1974</td>\n",
       "      <td>Europe</td>\n",
       "      <td>2358467.0</td>\n",
       "      <td>69.35</td>\n",
       "      <td>90.082</td>\n",
       "      <td>4.54</td>\n",
       "      <td>4177.0</td>\n",
       "      <td>11.436003</td>\n",
       "    </tr>\n",
       "    <tr>\n",
       "      <th>140</th>\n",
       "      <td>Albania</td>\n",
       "      <td>1994</td>\n",
       "      <td>Europe</td>\n",
       "      <td>3140634.0</td>\n",
       "      <td>73.60</td>\n",
       "      <td>96.540</td>\n",
       "      <td>2.77</td>\n",
       "      <td>3457.0</td>\n",
       "      <td>9.464750</td>\n",
       "    </tr>\n",
       "    <tr>\n",
       "      <th>160</th>\n",
       "      <td>Albania</td>\n",
       "      <td>2014</td>\n",
       "      <td>Europe</td>\n",
       "      <td>2889676.0</td>\n",
       "      <td>77.90</td>\n",
       "      <td>98.560</td>\n",
       "      <td>1.78</td>\n",
       "      <td>10160.0</td>\n",
       "      <td>27.816564</td>\n",
       "    </tr>\n",
       "    <tr>\n",
       "      <th>180</th>\n",
       "      <td>Algeria</td>\n",
       "      <td>1953</td>\n",
       "      <td>Africa</td>\n",
       "      <td>9405445.0</td>\n",
       "      <td>43.96</td>\n",
       "      <td>73.758</td>\n",
       "      <td>7.65</td>\n",
       "      <td>4077.0</td>\n",
       "      <td>11.162218</td>\n",
       "    </tr>\n",
       "    <tr>\n",
       "      <th>200</th>\n",
       "      <td>Algeria</td>\n",
       "      <td>1973</td>\n",
       "      <td>Africa</td>\n",
       "      <td>15804428.0</td>\n",
       "      <td>53.91</td>\n",
       "      <td>77.660</td>\n",
       "      <td>7.55</td>\n",
       "      <td>7581.0</td>\n",
       "      <td>20.755647</td>\n",
       "    </tr>\n",
       "    <tr>\n",
       "      <th>220</th>\n",
       "      <td>Algeria</td>\n",
       "      <td>1993</td>\n",
       "      <td>Africa</td>\n",
       "      <td>27785977.0</td>\n",
       "      <td>71.20</td>\n",
       "      <td>95.580</td>\n",
       "      <td>3.97</td>\n",
       "      <td>9279.0</td>\n",
       "      <td>25.404517</td>\n",
       "    </tr>\n",
       "    <tr>\n",
       "      <th>240</th>\n",
       "      <td>Algeria</td>\n",
       "      <td>2013</td>\n",
       "      <td>Africa</td>\n",
       "      <td>38186135.0</td>\n",
       "      <td>76.30</td>\n",
       "      <td>97.480</td>\n",
       "      <td>2.80</td>\n",
       "      <td>12893.0</td>\n",
       "      <td>35.299110</td>\n",
       "    </tr>\n",
       "    <tr>\n",
       "      <th>260</th>\n",
       "      <td>Angola</td>\n",
       "      <td>1952</td>\n",
       "      <td>Africa</td>\n",
       "      <td>4529381.0</td>\n",
       "      <td>31.59</td>\n",
       "      <td>60.428</td>\n",
       "      <td>6.98</td>\n",
       "      <td>3281.0</td>\n",
       "      <td>8.982888</td>\n",
       "    </tr>\n",
       "    <tr>\n",
       "      <th>280</th>\n",
       "      <td>Angola</td>\n",
       "      <td>1972</td>\n",
       "      <td>Africa</td>\n",
       "      <td>6587647.0</td>\n",
       "      <td>42.62</td>\n",
       "      <td>74.361</td>\n",
       "      <td>7.23</td>\n",
       "      <td>5511.0</td>\n",
       "      <td>15.088296</td>\n",
       "    </tr>\n",
       "    <tr>\n",
       "      <th>300</th>\n",
       "      <td>Angola</td>\n",
       "      <td>1992</td>\n",
       "      <td>Africa</td>\n",
       "      <td>11848971.0</td>\n",
       "      <td>49.60</td>\n",
       "      <td>77.400</td>\n",
       "      <td>7.12</td>\n",
       "      <td>3656.0</td>\n",
       "      <td>10.009582</td>\n",
       "    </tr>\n",
       "  </tbody>\n",
       "</table>\n",
       "</div>"
      ],
      "text/plain": [
       "         country  year  region  population  life_expectancy  age5_surviving  \\\n",
       "0    Afghanistan  1800    Asia   3280000.0            28.21          53.142   \n",
       "20   Afghanistan  1955    Asia   8270024.0            29.27          60.193   \n",
       "40   Afghanistan  1975    Asia  12582954.0            39.61          72.060   \n",
       "60   Afghanistan  1995    Asia  16772522.0            49.40          84.770   \n",
       "80   Afghanistan  2015    Asia  32526562.0            53.80          90.890   \n",
       "100      Albania  1954  Europe   1382881.0            56.59          84.829   \n",
       "120      Albania  1974  Europe   2358467.0            69.35          90.082   \n",
       "140      Albania  1994  Europe   3140634.0            73.60          96.540   \n",
       "160      Albania  2014  Europe   2889676.0            77.90          98.560   \n",
       "180      Algeria  1953  Africa   9405445.0            43.96          73.758   \n",
       "200      Algeria  1973  Africa  15804428.0            53.91          77.660   \n",
       "220      Algeria  1993  Africa  27785977.0            71.20          95.580   \n",
       "240      Algeria  2013  Africa  38186135.0            76.30          97.480   \n",
       "260       Angola  1952  Africa   4529381.0            31.59          60.428   \n",
       "280       Angola  1972  Africa   6587647.0            42.62          74.361   \n",
       "300       Angola  1992  Africa  11848971.0            49.60          77.400   \n",
       "\n",
       "     babies_per_woman  gdp_per_capita  gdp_per_day  \n",
       "0                7.00           603.0     1.650924  \n",
       "20               7.67          1125.0     3.080082  \n",
       "40               7.67          1201.0     3.288159  \n",
       "60               7.83           872.0     2.387406  \n",
       "80               4.47          1925.0     5.270363  \n",
       "100              6.31          2108.0     5.771389  \n",
       "120              4.54          4177.0    11.436003  \n",
       "140              2.77          3457.0     9.464750  \n",
       "160              1.78         10160.0    27.816564  \n",
       "180              7.65          4077.0    11.162218  \n",
       "200              7.55          7581.0    20.755647  \n",
       "220              3.97          9279.0    25.404517  \n",
       "240              2.80         12893.0    35.299110  \n",
       "260              6.98          3281.0     8.982888  \n",
       "280              7.23          5511.0    15.088296  \n",
       "300              7.12          3656.0    10.009582  "
      ]
     },
     "execution_count": 4,
     "metadata": {},
     "output_type": "execute_result"
    }
   ],
   "source": [
    "df.loc[:300:20]"
   ]
  },
  {
   "cell_type": "code",
   "execution_count": 5,
   "id": "219ae2eb",
   "metadata": {
    "_cell_guid": "db9aca8a-f65c-4eba-89f8-a8c26181917e",
    "_uuid": "2b56776a-7370-4d84-877e-59ed36becfb7",
    "collapsed": false,
    "execution": {
     "iopub.execute_input": "2023-12-18T00:45:19.064191Z",
     "iopub.status.busy": "2023-12-18T00:45:19.062337Z",
     "iopub.status.idle": "2023-12-18T00:45:19.070445Z",
     "shell.execute_reply": "2023-12-18T00:45:19.069632Z"
    },
    "jupyter": {
     "outputs_hidden": false
    },
    "papermill": {
     "duration": 0.017661,
     "end_time": "2023-12-18T00:45:19.072713",
     "exception": false,
     "start_time": "2023-12-18T00:45:19.055052",
     "status": "completed"
    },
    "tags": []
   },
   "outputs": [],
   "source": [
    "import matplotlib.pyplot as pp\n",
    "def year_plot(year:int):\n",
    "    data = df[df['year']==year]\n",
    "    area = 5e-6 * data.population\n",
    "    colors = data.region.map({'Africa':'skyblue','Europe':'gold','Asia':'palegreen','Amrica':'coral'}).fillna('gray')\n",
    "    data.plot.scatter('babies_per_woman','age5_surviving',s=area,c=colors)\n",
    "    # Annotate each point with its label\n",
    "\n",
    "\n",
    "    pp.axis(ymax=125)\n",
    "    pp.xlabel('dsd')\n",
    "    pp.show()"
   ]
  },
  {
   "cell_type": "code",
   "execution_count": 6,
   "id": "46a7ae16",
   "metadata": {
    "_cell_guid": "85849635-49e0-43c9-a7b6-97bebaf78b3f",
    "_uuid": "614bfb17-d973-4a7b-87f8-d4994b7ff678",
    "collapsed": false,
    "execution": {
     "iopub.execute_input": "2023-12-18T00:45:19.086893Z",
     "iopub.status.busy": "2023-12-18T00:45:19.086137Z",
     "iopub.status.idle": "2023-12-18T00:45:19.521058Z",
     "shell.execute_reply": "2023-12-18T00:45:19.519712Z"
    },
    "jupyter": {
     "outputs_hidden": false
    },
    "papermill": {
     "duration": 0.444915,
     "end_time": "2023-12-18T00:45:19.523588",
     "exception": false,
     "start_time": "2023-12-18T00:45:19.078673",
     "status": "completed"
    },
    "tags": []
   },
   "outputs": [
    {
     "data": {
      "application/vnd.jupyter.widget-view+json": {
       "model_id": "df054ff6f7bf4376878c74a877a204ca",
       "version_major": 2,
       "version_minor": 0
      },
      "text/plain": [
       "interactive(children=(IntSlider(value=1996, description='year', max=2015, min=1960), Output()), _dom_classes=(…"
      ]
     },
     "metadata": {},
     "output_type": "display_data"
    },
    {
     "data": {
      "text/plain": [
       "<function __main__.year_plot(year: int)>"
      ]
     },
     "execution_count": 6,
     "metadata": {},
     "output_type": "execute_result"
    }
   ],
   "source": [
    "from ipywidgets import interact, widgets\n",
    "\n",
    "interact(year_plot,year=widgets.IntSlider(min=1960,max=2015,step=1,value=1996))"
   ]
  },
  {
   "cell_type": "code",
   "execution_count": 7,
   "id": "79591521",
   "metadata": {
    "_cell_guid": "61c44aa5-34e9-4fc5-8241-58f82f426d31",
    "_uuid": "128a3fbf-7597-4fe8-a507-cf78c07651c8",
    "collapsed": false,
    "execution": {
     "iopub.execute_input": "2023-12-18T00:45:19.538437Z",
     "iopub.status.busy": "2023-12-18T00:45:19.538027Z",
     "iopub.status.idle": "2023-12-18T00:45:19.849506Z",
     "shell.execute_reply": "2023-12-18T00:45:19.848336Z"
    },
    "jupyter": {
     "outputs_hidden": false
    },
    "papermill": {
     "duration": 0.321569,
     "end_time": "2023-12-18T00:45:19.851878",
     "exception": false,
     "start_time": "2023-12-18T00:45:19.530309",
     "status": "completed"
    },
    "tags": []
   },
   "outputs": [
    {
     "data": {
      "text/plain": [
       "<Axes: xlabel='babies_per_woman', ylabel='age5_surviving'>"
      ]
     },
     "execution_count": 7,
     "metadata": {},
     "output_type": "execute_result"
    },
    {
     "data": {
      "image/png": "[encoded data removed]",
      "text/plain": [
       "<Figure size 640x480 with 1 Axes>"
      ]
     },
     "metadata": {},
     "output_type": "display_data"
    }
   ],
   "source": [
    "df.loc[df.year==1965].plot.scatter('babies_per_woman','age5_surviving')"
   ]
  },
  {
   "cell_type": "code",
   "execution_count": null,
   "id": "ad1af3df",
   "metadata": {
    "_cell_guid": "f0167ff6-a4e2-48d9-a03c-47900306d2de",
    "_uuid": "5821bccd-3a8c-45d8-908e-1f9c92d1dc4b",
    "collapsed": false,
    "jupyter": {
     "outputs_hidden": false
    },
    "papermill": {
     "duration": 0.006645,
     "end_time": "2023-12-18T00:45:19.865714",
     "exception": false,
     "start_time": "2023-12-18T00:45:19.859069",
     "status": "completed"
    },
    "tags": []
   },
   "outputs": [],
   "source": []
  },
  {
   "cell_type": "code",
   "execution_count": 8,
   "id": "4c45fa71",
   "metadata": {
    "_cell_guid": "e23f5865-4176-4a41-a033-80ea06a51134",
    "_uuid": "e844a028-f8fb-457b-8b33-c0600b8fa889",
    "collapsed": false,
    "execution": {
     "iopub.execute_input": "2023-12-18T00:45:19.881526Z",
     "iopub.status.busy": "2023-12-18T00:45:19.881112Z",
     "iopub.status.idle": "2023-12-18T00:45:19.890701Z",
     "shell.execute_reply": "2023-12-18T00:45:19.889401Z"
    },
    "jupyter": {
     "outputs_hidden": false
    },
    "papermill": {
     "duration": 0.020296,
     "end_time": "2023-12-18T00:45:19.892987",
     "exception": false,
     "start_time": "2023-12-18T00:45:19.872691",
     "status": "completed"
    },
    "tags": []
   },
   "outputs": [],
   "source": [
    "chian_data = df.loc[df['country']=='Afghanistan']\n",
    "chian_data_1995 = df.loc[df['year']==1995]"
   ]
  },
  {
   "cell_type": "code",
   "execution_count": 9,
   "id": "ed1e2059",
   "metadata": {
    "_cell_guid": "9180038b-d870-4b52-b291-d0dbb731013f",
    "_uuid": "28d2df14-5db4-4943-90f2-6dd57c5df1a1",
    "collapsed": false,
    "execution": {
     "iopub.execute_input": "2023-12-18T00:45:19.908948Z",
     "iopub.status.busy": "2023-12-18T00:45:19.908500Z",
     "iopub.status.idle": "2023-12-18T00:45:20.199275Z",
     "shell.execute_reply": "2023-12-18T00:45:20.198245Z"
    },
    "jupyter": {
     "outputs_hidden": false
    },
    "papermill": {
     "duration": 0.301585,
     "end_time": "2023-12-18T00:45:20.201723",
     "exception": false,
     "start_time": "2023-12-18T00:45:19.900138",
     "status": "completed"
    },
    "tags": []
   },
   "outputs": [
    {
     "data": {
      "text/plain": [
       "<Axes: ylabel='Frequency'>"
      ]
     },
     "execution_count": 9,
     "metadata": {},
     "output_type": "execute_result"
    },
    {
     "data": {
      "image/png": "[encoded data removed]",
      "text/plain": [
       "<Figure size 640x480 with 1 Axes>"
      ]
     },
     "metadata": {},
     "output_type": "display_data"
    }
   ],
   "source": [
    "round(chian_data_1995.gdp_per_day,1).plot(kind='hist',histtype='step',bins=10)"
   ]
  },
  {
   "cell_type": "code",
   "execution_count": 10,
   "id": "dcc64400",
   "metadata": {
    "_cell_guid": "1918eb29-6e85-46ea-b603-080013cf8809",
    "_uuid": "2b837798-e697-4fda-b60b-ddfd0033f154",
    "collapsed": false,
    "execution": {
     "iopub.execute_input": "2023-12-18T00:45:20.218386Z",
     "iopub.status.busy": "2023-12-18T00:45:20.217988Z",
     "iopub.status.idle": "2023-12-18T00:45:20.494883Z",
     "shell.execute_reply": "2023-12-18T00:45:20.493896Z"
    },
    "jupyter": {
     "outputs_hidden": false
    },
    "papermill": {
     "duration": 0.288276,
     "end_time": "2023-12-18T00:45:20.497543",
     "exception": false,
     "start_time": "2023-12-18T00:45:20.209267",
     "status": "completed"
    },
    "tags": []
   },
   "outputs": [
    {
     "data": {
      "text/plain": [
       "<matplotlib.lines.Line2D at 0x7f1674485840>"
      ]
     },
     "execution_count": 10,
     "metadata": {},
     "output_type": "execute_result"
    },
    {
     "data": {
      "image/png": "[encoded data removed]",
      "text/plain": [
       "<Figure size 640x480 with 1 Axes>"
      ]
     },
     "metadata": {},
     "output_type": "display_data"
    }
   ],
   "source": [
    "pp.axvline(chian_data_1995.gdp_per_day.mean())"
   ]
  }
 ],
 "metadata": {
  "kaggle": {
   "accelerator": "none",
   "dataSources": [
    {
     "datasetId": 4181308,
     "sourceId": 7223532,
     "sourceType": "datasetVersion"
    }
   ],
   "dockerImageVersionId": 30626,
   "isGpuEnabled": false,
   "isInternetEnabled": true,
   "language": "python",
   "sourceType": "notebook"
  },
  "kernelspec": {
   "display_name": "Python 3",
   "language": "python",
   "name": "python3"
  },
  "language_info": {
   "codemirror_mode": {
    "name": "ipython",
    "version": 3
   },
   "file_extension": ".py",
   "mimetype": "text/x-python",
   "name": "python",
   "nbconvert_exporter": "python",
   "pygments_lexer": "ipython3",
   "version": "3.10.12"
  },
  "papermill": {
   "default_parameters": {},
   "duration": 5.901211,
   "end_time": "2023-12-18T00:45:20.924962",
   "environment_variables": {},
   "exception": null,
   "input_path": "__notebook__.ipynb",
   "output_path": "__notebook__.ipynb",
   "parameters": {},
   "start_time": "2023-12-18T00:45:15.023751",
   "version": "2.4.0"
  },
  "widgets": {
   "application/vnd.jupyter.widget-state+json": {
    "state": {
     "54c6068c3a014c28a5f98c4fed382926": {
      "model_module": "@jupyter-widgets/base",
      "model_module_version": "1.2.0",
      "model_name": "LayoutModel",
      "state": {
       "_model_module": "@jupyter-widgets/base",
       "_model_module_version": "1.2.0",
       "_model_name": "LayoutModel",
       "_view_count": null,
       "_view_module": "@jupyter-widgets/base",
       "_view_module_version": "1.2.0",
       "_view_name": "LayoutView",
       "align_content": null,
       "align_items": null,
       "align_self": null,
       "border": null,
       "bottom": null,
       "display": null,
       "flex": null,
       "flex_flow": null,
       "grid_area": null,
       "grid_auto_columns": null,
       "grid_auto_flow": null,
       "grid_auto_rows": null,
       "grid_column": null,
       "grid_gap": null,
       "grid_row": null,
       "grid_template_areas": null,
       "grid_template_columns": null,
       "grid_template_rows": null,
       "height": null,
       "justify_content": null,
       "justify_items": null,
       "left": null,
       "margin": null,
       "max_height": null,
       "max_width": null,
       "min_height": null,
       "min_width": null,
       "object_fit": null,
       "object_position": null,
       "order": null,
       "overflow": null,
       "overflow_x": null,
       "overflow_y": null,
       "padding": null,
       "right": null,
       "top": null,
       "visibility": null,
       "width": null
      }
     },
     "57cf4fabf1d2412eb73017626b3402ca": {
      "model_module": "@jupyter-widgets/base",
      "model_module_version": "1.2.0",
      "model_name": "LayoutModel",
      "state": {
       "_model_module": "@jupyter-widgets/base",
       "_model_module_version": "1.2.0",
       "_model_name": "LayoutModel",
       "_view_count": null,
       "_view_module": "@jupyter-widgets/base",
       "_view_module_version": "1.2.0",
       "_view_name": "LayoutView",
       "align_content": null,
       "align_items": null,
       "align_self": null,
       "border": null,
       "bottom": null,
       "display": null,
       "flex": null,
       "flex_flow": null,
       "grid_area": null,
       "grid_auto_columns": null,
       "grid_auto_flow": null,
       "grid_auto_rows": null,
       "grid_column": null,
       "grid_gap": null,
       "grid_row": null,
       "grid_template_areas": null,
       "grid_template_columns": null,
       "grid_template_rows": null,
       "height": null,
       "justify_content": null,
       "justify_items": null,
       "left": null,
       "margin": null,
       "max_height": null,
       "max_width": null,
       "min_height": null,
       "min_width": null,
       "object_fit": null,
       "object_position": null,
       "order": null,
       "overflow": null,
       "overflow_x": null,
       "overflow_y": null,
       "padding": null,
       "right": null,
       "top": null,
       "visibility": null,
       "width": null
      }
     },
     "70cfff179f744658832f227e46525f44": {
      "model_module": "@jupyter-widgets/output",
      "model_module_version": "1.0.0",
      "model_name": "OutputModel",
      "state": {
       "_dom_classes": [],
       "_model_module": "@jupyter-widgets/output",
       "_model_module_version": "1.0.0",
       "_model_name": "OutputModel",
       "_view_count": null,
       "_view_module": "@jupyter-widgets/output",
       "_view_module_version": "1.0.0",
       "_view_name": "OutputView",
       "layout": "IPY_MODEL_f04d39e043e6486982aa337ff9df95b4",
       "msg_id": "",
       "outputs": [
        {
         "data": {
          "image/png": "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",
          "text/plain": "<Figure size 640x480 with 1 Axes>"
         },
         "metadata": {},
         "output_type": "display_data"
        }
       ]
      }
     },
     "bc651915f2b34c669c87f5e0826d6a6c": {
      "model_module": "@jupyter-widgets/controls",
      "model_module_version": "1.5.0",
      "model_name": "IntSliderModel",
      "state": {
       "_dom_classes": [],
       "_model_module": "@jupyter-widgets/controls",
       "_model_module_version": "1.5.0",
       "_model_name": "IntSliderModel",
       "_view_count": null,
       "_view_module": "@jupyter-widgets/controls",
       "_view_module_version": "1.5.0",
       "_view_name": "IntSliderView",
       "continuous_update": true,
       "description": "year",
       "description_tooltip": null,
       "disabled": false,
       "layout": "IPY_MODEL_54c6068c3a014c28a5f98c4fed382926",
       "max": 2015,
       "min": 1960,
       "orientation": "horizontal",
       "readout": true,
       "readout_format": "d",
       "step": 1,
       "style": "IPY_MODEL_c682e6865b9d4d979757806c7f0d64da",
       "value": 1996
      }
     },
     "c682e6865b9d4d979757806c7f0d64da": {
      "model_module": "@jupyter-widgets/controls",
      "model_module_version": "1.5.0",
      "model_name": "SliderStyleModel",
      "state": {
       "_model_module": "@jupyter-widgets/controls",
       "_model_module_version": "1.5.0",
       "_model_name": "SliderStyleModel",
       "_view_count": null,
       "_view_module": "@jupyter-widgets/base",
       "_view_module_version": "1.2.0",
       "_view_name": "StyleView",
       "description_width": "",
       "handle_color": null
      }
     },
     "df054ff6f7bf4376878c74a877a204ca": {
      "model_module": "@jupyter-widgets/controls",
      "model_module_version": "1.5.0",
      "model_name": "VBoxModel",
      "state": {
       "_dom_classes": [
        "widget-interact"
       ],
       "_model_module": "@jupyter-widgets/controls",
       "_model_module_version": "1.5.0",
       "_model_name": "VBoxModel",
       "_view_count": null,
       "_view_module": "@jupyter-widgets/controls",
       "_view_module_version": "1.5.0",
       "_view_name": "VBoxView",
       "box_style": "",
       "children": [
        "IPY_MODEL_bc651915f2b34c669c87f5e0826d6a6c",
        "IPY_MODEL_70cfff179f744658832f227e46525f44"
       ],
       "layout": "IPY_MODEL_57cf4fabf1d2412eb73017626b3402ca"
      }
     },
     "f04d39e043e6486982aa337ff9df95b4": {
      "model_module": "@jupyter-widgets/base",
      "model_module_version": "1.2.0",
      "model_name": "LayoutModel",
      "state": {
       "_model_module": "@jupyter-widgets/base",
       "_model_module_version": "1.2.0",
       "_model_name": "LayoutModel",
       "_view_count": null,
       "_view_module": "@jupyter-widgets/base",
       "_view_module_version": "1.2.0",
       "_view_name": "LayoutView",
       "align_content": null,
       "align_items": null,
       "align_self": null,
       "border": null,
       "bottom": null,
       "display": null,
       "flex": null,
       "flex_flow": null,
       "grid_area": null,
       "grid_auto_columns": null,
       "grid_auto_flow": null,
       "grid_auto_rows": null,
       "grid_column": null,
       "grid_gap": null,
       "grid_row": null,
       "grid_template_areas": null,
       "grid_template_columns": null,
       "grid_template_rows": null,
       "height": null,
       "justify_content": null,
       "justify_items": null,
       "left": null,
       "margin": null,
       "max_height": null,
       "max_width": null,
       "min_height": null,
       "min_width": null,
       "object_fit": null,
       "object_position": null,
       "order": null,
       "overflow": null,
       "overflow_x": null,
       "overflow_y": null,
       "padding": null,
       "right": null,
       "top": null,
       "visibility": null,
       "width": null
      }
     }
    },
    "version_major": 2,
    "version_minor": 0
   }
  }
 },
 "nbformat": 4,
 "nbformat_minor": 5
}
